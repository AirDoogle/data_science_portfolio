{
 "cells": [
  {
   "cell_type": "markdown",
   "id": "9b5baad5-5a04-4c92-8c88-ab3eca1d7702",
   "metadata": {},
   "source": [
    "# Handwritten digit recognition MNIST\n",
    "In this assignment I completed as part of my masters thesis. I had to use the MNIST data set and to train a machine learning network to recognise the digit from 1-9 in the image. \n",
    "\n",
    "This project demonstrates the implementation of a machine learning model to classify handwritten digits using the [MNIST dataset](https://en.wikipedia.org/wiki/MNIST_database). The notebook utilizes TensorFlow and Keras for training a neural network on the dataset. Key tasks include:\n",
    "\n",
    "- Loading and preprocessing the MNIST dataset.\n",
    "- Building and training a neural network model.\n",
    "- Evaluating the model's performance on unseen data.\n",
    "\n",
    "This project highlights foundational deep learning techniques, such as data normalization, model training, and evaluation metrics, to solve a classic problem in computer vision.\n"
   ]
  },
  {
   "cell_type": "markdown",
   "id": "54e48d23-b47f-4b22-8d5a-3c98c8d89d34",
   "metadata": {},
   "source": [
    "1. [Q1 (a) The MNIST data, Train a network on the MNIST dataset of handwritten digits to recognise digits.](#Q1-The-MNIST-data)\n",
    "   \n",
    "    1.1 [Data exploration](#Data-exploration)\n",
    "   \n",
    "    1.2 [Normalize the pixel values of the images to be between 0 and 1](#Normalize-the-pixel-values-of-the-images-to-be-between-0-and-1)\n",
    "\n",
    "    1.3 [Defines the nerual network model](#Defines-the-nerual-network-model)\n",
    "\n",
    "    1.4 [Observations](#Observations)\n",
    "\n",
    "    1.5 [Conclusion](#Conclusion)\n",
    "   \n",
    "2. [(b) How can you improve the performance of the network?](#Qb,5-marks:-How-can-you-improve-the-performance-of-the-network?)\n",
    "\n",
    "    2.1 [New model](#New-model)\n",
    "\n",
    "    2.2 [New model summary](#New-model-summary)\n",
    "\n",
    "    2.3 [Train the data](#Train-the-data)\n",
    "\n",
    "    2.4 [Test the data](#Test-the-data)\n",
    "\n",
    "    2.5 [Results](#Results)\n",
    "   \n",
    "    2.6 [Observations](#Observations_)\n",
    "\n",
    "    2.7 [Conclusion](#Conclusion_)"
   ]
  },
  {
   "cell_type": "code",
   "execution_count": 1,
   "id": "9a414327-fdec-49da-aba8-d7125d2a8834",
   "metadata": {
    "slideshow": {
     "slide_type": ""
    },
    "tags": []
   },
   "outputs": [
    {
     "name": "stderr",
     "output_type": "stream",
     "text": [
      "2024-02-19 23:53:10.770439: I tensorflow/core/platform/cpu_feature_guard.cc:182] This TensorFlow binary is optimized to use available CPU instructions in performance-critical operations.\n",
      "To enable the following instructions: AVX2 AVX512F AVX512_VNNI FMA, in other operations, rebuild TensorFlow with the appropriate compiler flags.\n"
     ]
    },
    {
     "name": "stdout",
     "output_type": "stream",
     "text": [
      "2.15.0\n"
     ]
    }
   ],
   "source": [
    "# execute this cell before you start\n",
    "\n",
    "import tensorflow as tf\n",
    "import tensorflow.keras\n",
    "\n",
    "# Helper libraries\n",
    "import numpy as np\n",
    "import matplotlib.pyplot as plt\n",
    "\n",
    "print(tf.__version__)\n"
   ]
  },
  {
   "cell_type": "markdown",
   "id": "1c03ed80-db51-455f-8db2-c2c7742426c3",
   "metadata": {},
   "source": [
    "to submit the assignment, please do the following:\n",
    "\n",
    "- make sure that the notebook runs through and produces all desired output after `Kernel -> Restart & Run all`\n",
    "- running the entire notebook should take no more than 60 minutes on a standard computer, similar to our lab computers, without a GPU and 8GB of RAM.\n",
    "- similarly, no cell must take longer than 10 minutes\n",
    "- do not clear the output, leave it in the notebook\n",
    "- If you only use code cells, you do not receive marks.\n",
    "- It is fine (but not required) to look for code on the Internet, in particular as a starting point.  However, this must be explicitly documented! You need to precisely say, which sources you used.  You do not need to cite code taken from the lecture notes, however, you need to cite, if you use code which is linked or cited in the lecture notes.\n"
   ]
  },
  {
   "cell_type": "markdown",
   "id": "78371e9b-1910-47d6-8b59-2c7c715f2767",
   "metadata": {},
   "source": [
    "# Q1 The MNIST data\n",
    "\n",
    "It seems that no course on Machine Learning is complete, without training a network on the famous [MNIST dataset](https://en.wikipedia.org/wiki/MNIST_database) of handwritten digits.  You can access them through `keras.datasets.mnist.load_data()`.\n",
    "\n",
    "The tasks for the first assignment is therefore:"
   ]
  },
  {
   "cell_type": "markdown",
   "id": "ead95f96-e378-4590-bce8-cb0265d92437",
   "metadata": {},
   "source": [
    "**(a) (2 marks) Train a network on the MNIST dataset of handwritten digits to recognise digits.**\n",
    "\n",
    "Reproduce the results of Lecture 03, but now use the original MNIST dataset.  Comment on your observations on the differences between the datasets.\n"
   ]
  },
  {
   "cell_type": "markdown",
   "id": "76a68125-d914-4f02-926b-b68471f8f478",
   "metadata": {},
   "source": [
    "### Data exploration"
   ]
  },
  {
   "cell_type": "code",
   "execution_count": 2,
   "id": "8406b630-d106-48fc-a91f-17cf13c675e7",
   "metadata": {},
   "outputs": [],
   "source": [
    "import tensorflow.keras as keras\n"
   ]
  },
  {
   "cell_type": "markdown",
   "id": "1d04c542-f427-4c07-9a06-ab4a12383b34",
   "metadata": {},
   "source": [
    "load the data"
   ]
  },
  {
   "cell_type": "code",
   "execution_count": 3,
   "id": "c5ed5fb5-a7ce-41f1-b7ea-8e0bfa6d227a",
   "metadata": {},
   "outputs": [],
   "source": [
    "MNSIT_data = tf.keras.datasets.mnist\n",
    "\n",
    "(train_images, train_labels), (test_images, test_labels) = MNSIT_data.load_data()"
   ]
  },
  {
   "cell_type": "code",
   "execution_count": 4,
   "id": "9c419f3d-524e-4f77-b028-1e19f76dc794",
   "metadata": {},
   "outputs": [
    {
     "name": "stdout",
     "output_type": "stream",
     "text": [
      "Training images shape: (60000, 28, 28)\n",
      "Training labels shape: (60000,)\n",
      "Test images shape: (10000, 28, 28)\n",
      "Test labels shape: (10000,)\n"
     ]
    }
   ],
   "source": [
    "print(\"Training images shape:\", train_images.shape)\n",
    "print(\"Training labels shape:\", train_labels.shape)\n",
    "print(\"Test images shape:\", test_images.shape)\n",
    "print(\"Test labels shape:\", test_labels.shape)\n"
   ]
  },
  {
   "cell_type": "code",
   "execution_count": 5,
   "id": "1fc398cc-778c-41f8-8230-25df18a9c2d7",
   "metadata": {},
   "outputs": [
    {
     "data": {
      "text/plain": [
       "9"
      ]
     },
     "execution_count": 5,
     "metadata": {},
     "output_type": "execute_result"
    }
   ],
   "source": [
    "max(train_labels)"
   ]
  },
  {
   "cell_type": "code",
   "execution_count": 6,
   "id": "9a492a65-79c2-41d6-aab8-be096e96dbe3",
   "metadata": {},
   "outputs": [
    {
     "data": {
      "text/plain": [
       "(10000, 28, 28)"
      ]
     },
     "execution_count": 6,
     "metadata": {},
     "output_type": "execute_result"
    }
   ],
   "source": [
    "test_images.shape\n"
   ]
  },
  {
   "cell_type": "markdown",
   "id": "7c114f56-88e5-44f7-bc81-f88861cf9a74",
   "metadata": {},
   "source": [
    "plot to see the first couple of training images"
   ]
  },
  {
   "cell_type": "code",
   "execution_count": 7,
   "id": "4495a8c5-0437-46ab-9896-85db27061419",
   "metadata": {},
   "outputs": [
    {
     "data": {
      "image/png": "[encoded data removed]",
      "text/plain": [
       "<Figure size 1000x1000 with 25 Axes>"
      ]
     },
     "metadata": {},
     "output_type": "display_data"
    }
   ],
   "source": [
    "\n",
    "plt.figure(figsize=(10,10))\n",
    "for i in range(25):\n",
    "    plt.subplot(5,5,i+1)\n",
    "    plt.xticks([])\n",
    "    plt.yticks([])\n",
    "    plt.grid(False)\n",
    "    plt.imshow(train_images[i], cmap=plt.cm.binary)\n",
    "    plt.xlabel(train_labels[i])\n"
   ]
  },
  {
   "cell_type": "markdown",
   "id": "e3649233-c6fc-4332-a886-b31ab8584197",
   "metadata": {},
   "source": [
    "# Normalize the pixel values of the images to be between 0 and 1"
   ]
  },
  {
   "cell_type": "code",
   "execution_count": 8,
   "id": "03fc66f6-dad0-441e-8a8c-852cbef7301f",
   "metadata": {},
   "outputs": [],
   "source": [
    "\n",
    "train_images = train_images / 255.0\n",
    "test_images = test_images / 255.0\n"
   ]
  },
  {
   "cell_type": "markdown",
   "id": "dfe9375f-1f3a-4d08-97bf-d684071752a4",
   "metadata": {},
   "source": [
    "# Defines the nerual network model\n"
   ]
  },
  {
   "cell_type": "code",
   "execution_count": 9,
   "id": "3c0f068b-8dc0-4b33-8f96-bac226de15e0",
   "metadata": {},
   "outputs": [],
   "source": [
    "\n",
    "\n",
    "model = keras.Sequential([\n",
    "    keras.layers.Flatten(input_shape=(28, 28)),\n",
    "    keras.layers.Dense(128, activation='relu'),\n",
    "    keras.layers.Dense(10, activation=tf.nn.softmax)\n",
    "])\n"
   ]
  },
  {
   "cell_type": "code",
   "execution_count": 10,
   "id": "8b7eb452-c209-4c5e-9b25-8bfa5f1d3fe6",
   "metadata": {},
   "outputs": [
    {
     "name": "stdout",
     "output_type": "stream",
     "text": [
      "Model: \"sequential\"\n",
      "_________________________________________________________________\n",
      " Layer (type)                Output Shape              Param #   \n",
      "=================================================================\n",
      " flatten (Flatten)           (None, 784)               0         \n",
      "                                                                 \n",
      " dense (Dense)               (None, 128)               100480    \n",
      "                                                                 \n",
      " dense_1 (Dense)             (None, 10)                1290      \n",
      "                                                                 \n",
      "=================================================================\n",
      "Total params: 101770 (397.54 KB)\n",
      "Trainable params: 101770 (397.54 KB)\n",
      "Non-trainable params: 0 (0.00 Byte)\n",
      "_________________________________________________________________\n"
     ]
    }
   ],
   "source": [
    "model.summary()"
   ]
  },
  {
   "cell_type": "code",
   "execution_count": 11,
   "id": "05e01b16-5441-4b55-931c-814898d1ef24",
   "metadata": {},
   "outputs": [],
   "source": [
    "\n",
    "model.compile(optimizer='adam',\n",
    "              loss='sparse_categorical_crossentropy',\n",
    "              metrics=['accuracy'])\n"
   ]
  },
  {
   "cell_type": "code",
   "execution_count": 12,
   "id": "ebcdc759-85be-4daa-8ed9-57403891cec1",
   "metadata": {},
   "outputs": [
    {
     "name": "stdout",
     "output_type": "stream",
     "text": [
      "Epoch 1/5\n",
      "1875/1875 [==============================] - 10s 5ms/step - loss: 0.2592 - accuracy: 0.9265\n",
      "Epoch 2/5\n",
      "1875/1875 [==============================] - 10s 5ms/step - loss: 0.1125 - accuracy: 0.9672\n",
      "Epoch 3/5\n",
      "1875/1875 [==============================] - 9s 5ms/step - loss: 0.0765 - accuracy: 0.9771\n",
      "Epoch 4/5\n",
      "1875/1875 [==============================] - 9s 5ms/step - loss: 0.0572 - accuracy: 0.9823\n",
      "Epoch 5/5\n",
      "1875/1875 [==============================] - 9s 5ms/step - loss: 0.0441 - accuracy: 0.9862\n"
     ]
    },
    {
     "data": {
      "text/plain": [
       "<keras.src.callbacks.History at 0x7fe264bad970>"
      ]
     },
     "execution_count": 12,
     "metadata": {},
     "output_type": "execute_result"
    }
   ],
   "source": [
    "# Train the model with the training data\n",
    "model.fit(train_images, train_labels, epochs=5)\n"
   ]
  },
  {
   "cell_type": "code",
   "execution_count": 13,
   "id": "76b5b3b8-1c5d-43a4-89b1-4c88c964c491",
   "metadata": {},
   "outputs": [
    {
     "name": "stdout",
     "output_type": "stream",
     "text": [
      "313/313 [==============================] - 1s 3ms/step - loss: 0.0744 - accuracy: 0.9785\n",
      "Test accuracy: 0.9785000085830688\n"
     ]
    }
   ],
   "source": [
    "# Evaluate the model's performance on the test dataset\n",
    "# gives an idea of how well the model performs on unseen data\n",
    "test_loss, test_acc = model.evaluate(test_images, test_labels)\n",
    "print('Test accuracy:', test_acc)\n"
   ]
  },
  {
   "cell_type": "code",
   "execution_count": 14,
   "id": "55c0ab69-eed5-4b45-a538-625c2b915c51",
   "metadata": {},
   "outputs": [
    {
     "name": "stdout",
     "output_type": "stream",
     "text": [
      "313/313 [==============================] - 1s 4ms/step\n"
     ]
    }
   ],
   "source": [
    "predictions = model.predict(test_images)"
   ]
  },
  {
   "cell_type": "code",
   "execution_count": 15,
   "id": "14f73c35-e454-4fd2-a1a9-33f3baa5d627",
   "metadata": {},
   "outputs": [
    {
     "data": {
      "text/plain": [
       "(array([1.1609644e-09, 6.7340933e-10, 4.1835819e-04, 9.9933249e-01,\n",
       "        1.1776682e-14, 3.9375414e-06, 3.2969436e-13, 1.3241641e-10,\n",
       "        2.4515155e-04, 1.8450562e-09], dtype=float32),\n",
       " 0.9999999386746321)"
      ]
     },
     "execution_count": 15,
     "metadata": {},
     "output_type": "execute_result"
    }
   ],
   "source": [
    "predictions[200], sum(predictions[200])"
   ]
  },
  {
   "cell_type": "code",
   "execution_count": 16,
   "id": "e049dce3-7b27-4925-896c-af85bd799dad",
   "metadata": {},
   "outputs": [
    {
     "data": {
      "text/plain": [
       "(3, 3)"
      ]
     },
     "execution_count": 16,
     "metadata": {},
     "output_type": "execute_result"
    }
   ],
   "source": [
    "np.argmax(predictions[200]), np.argmax(predictions[200])"
   ]
  },
  {
   "cell_type": "code",
   "execution_count": 17,
   "id": "f7e7b00f-73e7-44fe-a12e-1cdefce304f5",
   "metadata": {},
   "outputs": [
    {
     "data": {
      "text/plain": [
       "(<matplotlib.image.AxesImage at 0x7fe22ba91250>, 3)"
      ]
     },
     "execution_count": 17,
     "metadata": {},
     "output_type": "execute_result"
    },
    {
     "data": {
      "image/png": "[encoded data removed]",
      "text/plain": [
       "<Figure size 640x480 with 1 Axes>"
      ]
     },
     "metadata": {},
     "output_type": "display_data"
    }
   ],
   "source": [
    "plt.imshow(test_images[200],cmap=\"binary\"), test_labels[200]"
   ]
  },
  {
   "cell_type": "code",
   "execution_count": 18,
   "id": "2c6b9503-1a76-4aac-8905-733214fdaa74",
   "metadata": {},
   "outputs": [],
   "source": [
    "def plot_image(i, predictions_array, true_label, img):\n",
    "    true_label, img = true_label[i], img[i]\n",
    "    plt.grid(False)\n",
    "    plt.xticks([])\n",
    "    plt.yticks([])\n",
    "    \n",
    "    plt.imshow(img, cmap=plt.cm.binary)\n",
    "    \n",
    "    predicted_label = np.argmax(predictions_array)\n",
    "    if predicted_label == true_label:\n",
    "        color = 'blue'\n",
    "    else:\n",
    "        color = 'red'\n",
    "    \n",
    "   \n",
    "    plt.xlabel(\"{} {:2.0f}% ({})\".format(predicted_label,\n",
    "                                100*np.max(predictions_array),\n",
    "                                true_label),\n",
    "                                color=color)\n",
    "\n",
    "def plot_value_array(i, predictions_array, true_label):\n",
    "    predictions_array, true_label = predictions_array[i], true_label[i]\n",
    "    plt.grid(False)\n",
    "    plt.xticks(range(10))\n",
    "    plt.yticks([])\n",
    "    thisplot = plt.bar(range(10), predictions_array, color=\"#777777\")\n",
    "    plt.ylim([0, 1])\n",
    "    predicted_label = np.argmax(predictions_array)\n",
    "    \n",
    "    thisplot[predicted_label].set_color('red')\n",
    "    thisplot[true_label].set_color('blue')\n"
   ]
  },
  {
   "cell_type": "code",
   "execution_count": 19,
   "id": "b72f3d37-fbf9-4677-ab79-dbb6f0df22a8",
   "metadata": {},
   "outputs": [
    {
     "data": {
      "image/png": "[encoded data removed]",
      "text/plain": [
       "<Figure size 600x300 with 2 Axes>"
      ]
     },
     "metadata": {},
     "output_type": "display_data"
    }
   ],
   "source": [
    "# Choose an image index from the test set\n",
    "i = 710 # for example\n",
    "\n",
    "plt.figure(figsize=(6,3))\n",
    "plt.subplot(1,2,1)\n",
    "plot_image(i, predictions, test_labels, test_images)\n",
    "plt.subplot(1,2,2)\n",
    "plot_value_array(i, predictions, test_labels)\n",
    "plt.show()\n"
   ]
  },
  {
   "cell_type": "code",
   "execution_count": 20,
   "id": "b1dbc7b0-0ada-41b7-a0a1-43d8e9fcc7b8",
   "metadata": {},
   "outputs": [
    {
     "name": "stdout",
     "output_type": "stream",
     "text": [
      "313/313 [==============================] - 1s 3ms/step\n"
     ]
    },
    {
     "data": {
      "image/png": "[encoded data removed]",
      "text/plain": [
       "<Figure size 1200x1000 with 30 Axes>"
      ]
     },
     "metadata": {},
     "output_type": "display_data"
    }
   ],
   "source": [
    "# Set the number of images to display\n",
    "num_rows = 5\n",
    "num_cols = 3\n",
    "num_images = num_rows * num_cols\n",
    "\n",
    "# Predictions from the model for the test dataset\n",
    "predictions = model.predict(test_images)\n",
    "\n",
    "# Plotting the images with their predictions and true labels\n",
    "plt.figure(figsize=(2*2*num_cols, 2*num_rows))\n",
    "for i in range(num_images):\n",
    "    # Plot the image\n",
    "    plt.subplot(num_rows, 2*num_cols, 2*i+1)\n",
    "    plot_image(i, predictions[i], test_labels, test_images)\n",
    "    \n",
    "    # gets the plot\n",
    "    plt.subplot(num_rows, 2*num_cols, 2*i+2)\n",
    "    plot_value_array(i, predictions, test_labels)\n",
    "plt.tight_layout()\n",
    "plt.show()\n"
   ]
  },
  {
   "cell_type": "markdown",
   "id": "b7c1b6c0-9ce1-41f6-912f-87ccb715b2bd",
   "metadata": {},
   "source": [
    "# Observations\n",
    "### Training performance\n",
    "MNIST Dataset: The model quickly reached a high accuracy of **98.65**% by the end of the 5 epochs during training, with a lower and larger percentage decrease in loss **0.2553 to 0.0452**.\n",
    "\n",
    "Fashion MNIST Dataset: The model's accuracy improved more slowly, reaching 89.1% by the end of 5 epochs, which is lower than the MNIST dataset. The loss also decreased but at a slower rate compared to the MNIST dataset and the loss was much higher 0.5009 to 0.2956.\n",
    "\n",
    "### Test Performance\n",
    "\n",
    "MNIST Dataset: The model achieved a test accuracy of  **97.74%** . The loss on the test set was **0.0773**. \n",
    "\n",
    "Fashion MNIST Dataset: The test accuracy was 86.14%, with a loss of 0.3798, which is significantly lower than the MNIST dataset and suggests that the Fashion MNIST dataset is harder for the model to generalize.\n",
    "\n",
    "### Overfitting:\n",
    "\n",
    "There is a difference in the training and test accuracies for both datasets. For the MNIST dataset, the test performance was lower and loss larger, whereas for the Fashion MNIST dataset, it was also lower and the loss was larger. This suggests that there may be a very slight overfitting occurring in both cases\n",
    "\n",
    "# Conclusion\n",
    "\n",
    "AS can be seen in the final plot, there are far less errors in the MNSIT datasets as compared to the Fashion MNIST data, and the model doesnt get confused as often either. The Fashion MNIST dataset has a lower accuracy and more loss than the MNIST data, indicating that the model has a harder time distinguishing between different types of clothing than it does between numbers. This could be due to the more complex and varied shapes and textures in the Fashion MNIST dataset compared to the relatively simple and consistent shapes of digits in the MNIST dataset.\n",
    "\n",
    "\n"
   ]
  },
  {
   "cell_type": "markdown",
   "id": "765c4f7f-8d52-4c4b-b4e1-075cdda3155e",
   "metadata": {
    "nbgrader": {
     "cell_type": "markdown",
     "checksum": "4632a34d2a1ba854f05a9166ec172fe1",
     "grade": false,
     "grade_id": "cell-4b35628262000e69",
     "locked": true,
     "points": 5,
     "schema_version": 3,
     "solution": false,
     "task": true
    },
    "slideshow": {
     "slide_type": ""
    },
    "tags": []
   },
   "source": [
    "\n"
   ]
  },
  {
   "cell_type": "markdown",
   "id": "4e3418c7-b6ca-4d73-9ae7-3b88a9f79b9e",
   "metadata": {},
   "source": [
    "# Qb,5 marks: How can you improve the performance of the network?\n",
    "\n",
    "Here some suggestions of what you can try\n",
    "   - Change the number of nodes in the hidden layer\n",
    "   - Use a different loss function\n",
    "   - Use a different optimizer\n",
    "   - Change the number of epochs\n",
    "   - Change the batch size\n",
    "   - Play with a dropout layer\n",
    "   - Work with different number of hidden layers\n",
    "   \n",
    "Explain the effect of changing parameters in your own words and draw conclusions about how performance improves.  The mark for this part will depend on the overall insight demonstrated.  Code alone does not yield marks. \n",
    "Note that one aspect of performance is required training time.  Do not use code cells which take longer than 10 minutes to run on standard CPU based hardware. (Also don't use code which exceeds standard memory requirements of about 8GB RAM, but that should not be an issure here)\n"
   ]
  },
  {
   "cell_type": "markdown",
   "id": "9c797bcc-0d98-4795-b732-f327e866389d",
   "metadata": {},
   "source": [
    "# New model"
   ]
  },
  {
   "cell_type": "code",
   "execution_count": 21,
   "id": "e0cb0b10-3dbe-49c0-9fa4-0f133fee29b6",
   "metadata": {},
   "outputs": [
    {
     "name": "stdout",
     "output_type": "stream",
     "text": [
      "2.15.0\n"
     ]
    }
   ],
   "source": [
    "import tensorflow as tf\n",
    "import tensorflow.keras\n",
    "\n",
    "# Helper libraries\n",
    "import numpy as np\n",
    "import matplotlib.pyplot as plt\n",
    "\n",
    "print(tf.__version__)\n",
    "\n",
    "import tensorflow.keras as keras\n",
    "from tensorflow.keras.layers import Dense, Flatten, Dropout\n",
    "\n",
    "from tensorflow.keras.callbacks import EarlyStopping"
   ]
  },
  {
   "cell_type": "code",
   "execution_count": 22,
   "id": "587acb9d-c3fe-4cdb-9fa1-ad9f06519868",
   "metadata": {},
   "outputs": [],
   "source": [
    "MNSIT_data = tf.keras.datasets.mnist\n",
    "\n",
    "(train_images, train_labels), (test_images, test_labels) = MNSIT_data.load_data()"
   ]
  },
  {
   "cell_type": "code",
   "execution_count": 23,
   "id": "39c3c7fc-e5f7-48fb-9cbf-e47c59201295",
   "metadata": {},
   "outputs": [],
   "source": [
    "\n",
    "train_images = train_images / 255.0\n",
    "test_images = test_images / 255.0\n"
   ]
  },
  {
   "cell_type": "code",
   "execution_count": 24,
   "id": "f047f294-d887-4077-a775-989b27e489c2",
   "metadata": {},
   "outputs": [],
   "source": [
    "\n",
    "model = keras.Sequential([\n",
    "    keras.layers.Flatten(input_shape=(28, 28)),\n",
    "    keras.layers.Dense(256, activation='relu'), # Increased from 128 to 256\n",
    "    Dropout(0.5), #adds a dropout layer\n",
    "    keras.layers.Dense(10, activation='softmax')\n",
    "])\n",
    "\n",
    "\n",
    "\n",
    "model.compile(optimizer='adam', \n",
    "              loss='sparse_categorical_crossentropy',\n",
    "              metrics=['accuracy']\n",
    "             )\n"
   ]
  },
  {
   "cell_type": "markdown",
   "id": "ab0e516a-ee44-4c11-9804-2df77eb81f69",
   "metadata": {},
   "source": [
    "## **New model summary**"
   ]
  },
  {
   "cell_type": "code",
   "execution_count": 25,
   "id": "702b00d6-d98d-45f9-96dd-04b009ef5d16",
   "metadata": {},
   "outputs": [
    {
     "name": "stdout",
     "output_type": "stream",
     "text": [
      "Model: \"sequential_1\"\n",
      "_________________________________________________________________\n",
      " Layer (type)                Output Shape              Param #   \n",
      "=================================================================\n",
      " flatten_1 (Flatten)         (None, 784)               0         \n",
      "                                                                 \n",
      " dense_2 (Dense)             (None, 256)               200960    \n",
      "                                                                 \n",
      " dropout (Dropout)           (None, 256)               0         \n",
      "                                                                 \n",
      " dense_3 (Dense)             (None, 10)                2570      \n",
      "                                                                 \n",
      "=================================================================\n",
      "Total params: 203530 (795.04 KB)\n",
      "Trainable params: 203530 (795.04 KB)\n",
      "Non-trainable params: 0 (0.00 Byte)\n",
      "_________________________________________________________________\n"
     ]
    }
   ],
   "source": [
    "model.summary()"
   ]
  },
  {
   "cell_type": "markdown",
   "id": "fb803c21-0e57-4f01-bdf5-6fc6500a897b",
   "metadata": {},
   "source": [
    "## **Train the data**"
   ]
  },
  {
   "cell_type": "code",
   "execution_count": 26,
   "id": "60d2db32-72ab-44eb-a324-51ea34f50a27",
   "metadata": {},
   "outputs": [
    {
     "name": "stdout",
     "output_type": "stream",
     "text": [
      "Epoch 1/15\n",
      "844/844 [==============================] - 9s 10ms/step - loss: 0.3765 - accuracy: 0.8895 - val_loss: 0.1363 - val_accuracy: 0.9638\n",
      "Epoch 2/15\n",
      "844/844 [==============================] - 8s 9ms/step - loss: 0.1897 - accuracy: 0.9439 - val_loss: 0.1045 - val_accuracy: 0.9710\n",
      "Epoch 3/15\n",
      "844/844 [==============================] - 8s 9ms/step - loss: 0.1484 - accuracy: 0.9545 - val_loss: 0.0848 - val_accuracy: 0.9772\n",
      "Epoch 4/15\n",
      "844/844 [==============================] - 8s 10ms/step - loss: 0.1252 - accuracy: 0.9628 - val_loss: 0.0781 - val_accuracy: 0.9787\n",
      "Epoch 5/15\n",
      "844/844 [==============================] - 8s 9ms/step - loss: 0.1088 - accuracy: 0.9667 - val_loss: 0.0684 - val_accuracy: 0.9817\n",
      "Epoch 6/15\n",
      "844/844 [==============================] - 8s 9ms/step - loss: 0.0986 - accuracy: 0.9696 - val_loss: 0.0670 - val_accuracy: 0.9812\n",
      "Epoch 7/15\n",
      "844/844 [==============================] - 8s 9ms/step - loss: 0.0898 - accuracy: 0.9711 - val_loss: 0.0613 - val_accuracy: 0.9815\n",
      "Epoch 8/15\n",
      "844/844 [==============================] - 8s 9ms/step - loss: 0.0830 - accuracy: 0.9740 - val_loss: 0.0633 - val_accuracy: 0.9825\n",
      "Epoch 9/15\n",
      "844/844 [==============================] - 8s 10ms/step - loss: 0.0800 - accuracy: 0.9751 - val_loss: 0.0622 - val_accuracy: 0.9833\n",
      "Epoch 10/15\n",
      "844/844 [==============================] - 8s 9ms/step - loss: 0.0714 - accuracy: 0.9769 - val_loss: 0.0602 - val_accuracy: 0.9833\n",
      "Epoch 11/15\n",
      "844/844 [==============================] - 11s 13ms/step - loss: 0.0698 - accuracy: 0.9780 - val_loss: 0.0610 - val_accuracy: 0.9838\n",
      "Epoch 12/15\n",
      "844/844 [==============================] - 9s 11ms/step - loss: 0.0644 - accuracy: 0.9783 - val_loss: 0.0630 - val_accuracy: 0.9837\n",
      "Epoch 13/15\n",
      "844/844 [==============================] - 9s 11ms/step - loss: 0.0610 - accuracy: 0.9806 - val_loss: 0.0675 - val_accuracy: 0.9827\n"
     ]
    },
    {
     "data": {
      "text/plain": [
       "<keras.src.callbacks.History at 0x7fe22c649100>"
      ]
     },
     "execution_count": 26,
     "metadata": {},
     "output_type": "execute_result"
    }
   ],
   "source": [
    "# Train the model with the training data\n",
    "early_stopping = EarlyStopping(monitor='val_loss', patience=3)\n",
    "model.fit(train_images, train_labels, epochs=15, batch_size=64, validation_split=0.1,  # Use part of the training data for validation\n",
    "                    callbacks=[early_stopping])  # Include the early stopping callback)"
   ]
  },
  {
   "cell_type": "markdown",
   "id": "1fa23c82-7fbd-497c-9666-af2b9fc7ad22",
   "metadata": {},
   "source": [
    "## **Test the data**"
   ]
  },
  {
   "cell_type": "code",
   "execution_count": 27,
   "id": "b7adc3df-8298-4a7c-a94e-78e22ce093ab",
   "metadata": {},
   "outputs": [
    {
     "name": "stdout",
     "output_type": "stream",
     "text": [
      "313/313 [==============================] - 1s 4ms/step - loss: 0.0664 - accuracy: 0.9810\n",
      "Test accuracy: 0.9810000061988831\n"
     ]
    }
   ],
   "source": [
    "# gives an idea of how well the model performs on unseen data\n",
    "test_loss, test_acc = model.evaluate(test_images, test_labels)\n",
    "print('Test accuracy:', test_acc)"
   ]
  },
  {
   "cell_type": "markdown",
   "id": "319b76aa-a29e-429a-b9dc-99339663cee9",
   "metadata": {},
   "source": [
    "## **Results**\n",
    "These are test accuracy and loss results of various models performed. Results are diccussed in the conclusion.\n",
    "These are all the changes that differ from the original model\n"
   ]
  },
  {
   "cell_type": "code",
   "execution_count": 28,
   "id": "354f0336-1533-470d-8660-2ed81d49967f",
   "metadata": {},
   "outputs": [],
   "source": [
    "\n",
    "#epoch 10 - .9780\n",
    "#epoch 20 - .9779\n",
    "#epoch 5 - .9791 l0.0672\n",
    "#epoch 5 - .9783 lo 0.0753\n",
    "#epoch 10, meurons at 256 - .981 lo 0.0647\n",
    "#epoch 10, early stopping, val split:0.1 - .9793 lo 0.0663\n",
    "#epoch 15 (stopped at 10), early stopping, val split:0.1 .  - .9804 lo 0.727\n",
    "#epoch 15, sgd, (stopped at 10), early stopping, val split:0.1 .  - 0.9610 lo  0.1307\n",
    "##epoch 15, , (stopped at 12), early stopping, val split:0.1,  batch aize 64 .  .9815, lo 0.0654\n",
    "##epoch 15, , (stopped at 11), early stopping, val split:0.1,  batch aize 64, extra hidden layer 64 .  .9805, lo 0.0626\n",
    "##epoch 15, , (stopped at 11), early stopping, val split:0.1,  batch aize 64, extra hidden layer 128 .\n",
    "##epoch 15, , (stopped at 15), early stopping, val split:0.1,  batch aize 64 .  .9817, lo 0.0665\n",
    "##epoch 15, , (stopped at 15), early stopping, val split:0.1,  batch aize 64 .  .9815 lo 0.0655\n",
    "##epoch 15,RMS optimiser , (stopped at 15), early stopping, val split:0.1,  batch aize 64 .  9796, lo 0.0764\n",
    "##epoch 15,adam optimiser 0.1 learning, (stopped at 12), early stopping, val split:0.1,  batch aize 128 .  9815, lo 0.0691\n",
    "##epoch 15,adam optimiser 0.1 learning, (stopped at 12), early stopping, val split:0.1,  batch aize 128 .  9812, lo 0.0679\n",
    "# final model , best improements were adam optimiser , early stopping val split:0.1, training batch size of 128, neurons of 256in first layer, TA:.9818 , Loss: 0.0617"
   ]
  },
  {
   "cell_type": "markdown",
   "id": "e5094c78-dc24-4011-a71a-e95773385651",
   "metadata": {},
   "source": [
    "\n",
    "    \n",
    "    \n",
    "    \n",
    "    \n",
    "    \n",
    "    \n",
    "    \n",
    "    \n",
    "    \n",
    "    \n",
    "    \n",
    "    \n",
    "    "
   ]
  },
  {
   "cell_type": "markdown",
   "id": "48dc4682-2357-4f48-93be-f6fcf3c996db",
   "metadata": {},
   "source": [
    "# Observations_\n",
    "The model improved went from a testing accuracy of **97.74%** and  loss of **0.0773** to the testing accuracy of  **0.9819** and loss of  **0.0617**.\n",
    "\n",
    "The improved model improvements consisisted of :\n",
    "1. increased neurons in the first dense layer: from 128 to 256, this allowed the model to have a higher capacity to learn an distinguis more complex patterns in the data which is useful for the different writing styles present in the MNIST dataset\n",
    "2. Dropout added with a rate of 0.5 was added after the first dense layer, this helps prevent overfitting\n",
    "3. Epoch changed to 15 with a batch size of 64, this balaced the models training data against overfitting, with early stopping incoportated to stop training if improvement stops, this optimises the computational efficiency\n",
    "4. experiments were conducted using the SGD optimeser as can be seen in the rough work  and variations in the hidden layer were used 64 and 128 neuron, these trials didnt cause any improvements. The SGD optiser while simpler than Adam might not have performed well due to it needing a constant learning rate, the tested configuarions of 64 and 128 neruons in hidden layers likely iddnt provide the right balcance of model complexity and learning and werent an improvement from the inital 128 neuron layer\n",
    "5. the sparse categorical cross entropy was maintained as the loss fucntion through out the experimtents as it is best for a multi class classification which MNSIT dataset is. it is specifically designed for these scenarios"
   ]
  },
  {
   "cell_type": "markdown",
   "id": "682c2344-cd38-4c4a-985a-fdcb82eccc69",
   "metadata": {},
   "source": [
    "## **Conclusion_**\n",
    "the final model configuration had increased neurons 128 to 256, included a dropout (0.5), optimised training parameters such as early stopping which reduced risk of overfitting. the experiments with different optimizers and hidden layer provided insight and reinforced how good the adam optiser is for this task and the inportance of selecting an approprieate model complexity. the choice of loss fucntion was most suited for the data. overall the improvements of the machine learning model showed how it could use machine learning principals to improve the testing accuracy to  **0.9819** and a loss of **0.0617** from **97.74%** and  loss of **0.0773**."
   ]
  }
 ],
 "metadata": {
  "kernelspec": {
   "display_name": "Python 3 (ipykernel)",
   "language": "python",
   "name": "python3"
  },
  "language_info": {
   "codemirror_mode": {
    "name": "ipython",
    "version": 3
   },
   "file_extension": ".py",
   "mimetype": "text/x-python",
   "name": "python",
   "nbconvert_exporter": "python",
   "pygments_lexer": "ipython3",
   "version": "3.12.4"
  }
 },
 "nbformat": 4,
 "nbformat_minor": 5
}
