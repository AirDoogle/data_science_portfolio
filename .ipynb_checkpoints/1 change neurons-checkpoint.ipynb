{
 "cells": [
  {
   "cell_type": "markdown",
   "id": "625db0a1-bc39-42aa-87b4-0a96e3176f3d",
   "metadata": {},
   "source": [
    "From this lecture onwards we will be using Jupyter Lab.\n",
    "This will ensure the correct behaviour of the widgets. \n",
    "To do this, we will install jupyter lab in the virtual environment:\n",
    "\n",
    "`source tfvenv/bin/activate`\n",
    "\n",
    "Now close your jupyter notebooks, stop jupyter kernels, and start the jupyter lab inside your virtual environment:\n",
    "\n",
    "`jupyter lab`"
   ]
  },
  {
   "cell_type": "code",
   "execution_count": null,
   "id": "a283e2eb-aacc-4b8e-9d77-b692149b2b88",
   "metadata": {},
   "outputs": [
    {
     "name": "stderr",
     "output_type": "stream",
     "text": [
      "2024-02-19 21:57:30.366412: I tensorflow/core/platform/cpu_feature_guard.cc:182] This TensorFlow binary is optimized to use available CPU instructions in performance-critical operations.\n",
      "To enable the following instructions: AVX2 AVX512F AVX512_VNNI FMA, in other operations, rebuild TensorFlow with the appropriate compiler flags.\n"
     ]
    },
    {
     "name": "stdout",
     "output_type": "stream",
     "text": [
      "2.15.0\n"
     ]
    }
   ],
   "source": [
    "\n",
    "import tensorflow as tf\n",
    "import tensorflow.keras\n",
    "\n",
    "# Helper libraries\n",
    "import numpy as np\n",
    "import matplotlib.pyplot as plt\n",
    "\n",
    "print(tf.__version__)\n",
    "\n",
    "import tensorflow.keras as keras\n",
    "from tensorflow.keras.layers import Dense, Flatten, Dropout\n",
    "\n",
    "from tensorflow.keras.callbacks import EarlyStopping"
   ]
  },
  {
   "cell_type": "code",
   "execution_count": null,
   "id": "1ff544f2-c53e-4a34-a6de-53066a2d7580",
   "metadata": {},
   "outputs": [],
   "source": [
    "from tensorflow.keras.optimizers import Adam\n",
    "from tensorflow.keras.optimizers import RMSprop"
   ]
  },
  {
   "cell_type": "code",
   "execution_count": null,
   "id": "c43fba46-cfe2-48c0-8904-3fa832311f50",
   "metadata": {},
   "outputs": [],
   "source": [
    "MNSIT_data = tf.keras.datasets.mnist\n",
    "\n",
    "(train_images, train_labels), (test_images, test_labels) = MNSIT_data.load_data()"
   ]
  },
  {
   "cell_type": "code",
   "execution_count": null,
   "id": "1319c998-4f4e-43dd-a2b4-8bb959ec1f23",
   "metadata": {},
   "outputs": [],
   "source": [
    "\n",
    "train_images = train_images / 255.0\n",
    "test_images = test_images / 255.0\n"
   ]
  },
  {
   "cell_type": "code",
   "execution_count": null,
   "id": "9479bad3-d222-4c40-b75c-9745c6d78bb4",
   "metadata": {},
   "outputs": [],
   "source": [
    "\n",
    "model = keras.Sequential([\n",
    "    keras.layers.Flatten(input_shape=(28, 28)),\n",
    "    keras.layers.Dense(256, activation='relu'), # Increased from 128 to 256\n",
    "    Dropout(0.5), #adds a dropout layer\n",
    "    keras.layers.Dense(10, activation='softmax')\n",
    "])\n",
    "\n",
    "\n",
    "\n",
    "model.compile(optimizer='adam', \n",
    "              loss='sparse_categorical_crossentropy',\n",
    "              metrics=['accuracy']\n",
    "             )\n"
   ]
  },
  {
   "cell_type": "code",
   "execution_count": null,
   "id": "ca54d16c-cd79-4f63-8209-e7aa1ccd9445",
   "metadata": {},
   "outputs": [
    {
     "name": "stdout",
     "output_type": "stream",
     "text": [
      "Model: \"sequential\"\n",
      "_________________________________________________________________\n",
      " Layer (type)                Output Shape              Param #   \n",
      "=================================================================\n",
      " flatten (Flatten)           (None, 784)               0         \n",
      "                                                                 \n",
      " dense (Dense)               (None, 256)               200960    \n",
      "                                                                 \n",
      " dropout (Dropout)           (None, 256)               0         \n",
      "                                                                 \n",
      " dense_1 (Dense)             (None, 10)                2570      \n",
      "                                                                 \n",
      "=================================================================\n",
      "Total params: 203530 (795.04 KB)\n",
      "Trainable params: 203530 (795.04 KB)\n",
      "Non-trainable params: 0 (0.00 Byte)\n",
      "_________________________________________________________________\n"
     ]
    }
   ],
   "source": [
    "model.summary()"
   ]
  },
  {
   "cell_type": "code",
   "execution_count": 6,
   "id": "5b58c3f1-4462-4ba7-bbea-fab61c679676",
   "metadata": {},
   "outputs": [
    {
     "name": "stdout",
     "output_type": "stream",
     "text": [
      "Epoch 1/15\n",
      "844/844 [==============================] - 8s 9ms/step - loss: 0.3673 - accuracy: 0.8924 - val_loss: 0.1395 - val_accuracy: 0.9647\n",
      "Epoch 2/15\n",
      "844/844 [==============================] - 9s 11ms/step - loss: 0.1897 - accuracy: 0.9442 - val_loss: 0.0998 - val_accuracy: 0.9720\n",
      "Epoch 3/15\n",
      "844/844 [==============================] - 8s 10ms/step - loss: 0.1454 - accuracy: 0.9561 - val_loss: 0.0852 - val_accuracy: 0.9762\n",
      "Epoch 4/15\n",
      "844/844 [==============================] - 9s 11ms/step - loss: 0.1254 - accuracy: 0.9626 - val_loss: 0.0821 - val_accuracy: 0.9777\n",
      "Epoch 5/15\n",
      "844/844 [==============================] - 9s 11ms/step - loss: 0.1082 - accuracy: 0.9673 - val_loss: 0.0740 - val_accuracy: 0.9777\n",
      "Epoch 6/15\n",
      "844/844 [==============================] - 7s 8ms/step - loss: 0.0974 - accuracy: 0.9698 - val_loss: 0.0680 - val_accuracy: 0.9795\n",
      "Epoch 7/15\n",
      "844/844 [==============================] - 8s 10ms/step - loss: 0.0886 - accuracy: 0.9722 - val_loss: 0.0674 - val_accuracy: 0.9822\n",
      "Epoch 8/15\n",
      "844/844 [==============================] - 8s 10ms/step - loss: 0.0812 - accuracy: 0.9748 - val_loss: 0.0675 - val_accuracy: 0.9812\n",
      "Epoch 9/15\n",
      "844/844 [==============================] - 8s 9ms/step - loss: 0.0759 - accuracy: 0.9755 - val_loss: 0.0663 - val_accuracy: 0.9822\n",
      "Epoch 10/15\n",
      "844/844 [==============================] - 8s 9ms/step - loss: 0.0705 - accuracy: 0.9769 - val_loss: 0.0670 - val_accuracy: 0.9825\n",
      "Epoch 11/15\n",
      "844/844 [==============================] - 7s 8ms/step - loss: 0.0665 - accuracy: 0.9794 - val_loss: 0.0621 - val_accuracy: 0.9823\n",
      "Epoch 12/15\n",
      "844/844 [==============================] - 7s 8ms/step - loss: 0.0627 - accuracy: 0.9799 - val_loss: 0.0703 - val_accuracy: 0.9808\n",
      "Epoch 13/15\n",
      "844/844 [==============================] - 7s 9ms/step - loss: 0.0599 - accuracy: 0.9809 - val_loss: 0.0638 - val_accuracy: 0.9837\n",
      "Epoch 14/15\n",
      "844/844 [==============================] - 7s 9ms/step - loss: 0.0563 - accuracy: 0.9813 - val_loss: 0.0675 - val_accuracy: 0.9842\n"
     ]
    },
    {
     "data": {
      "text/plain": [
       "<keras.src.callbacks.History at 0x7fc321f24eb0>"
      ]
     },
     "execution_count": 6,
     "metadata": {},
     "output_type": "execute_result"
    }
   ],
   "source": [
    "# Train the model with the training data\n",
    "early_stopping = EarlyStopping(monitor='val_loss', patience=3)\n",
    "model.fit(train_images, train_labels, epochs=15, batch_size=64, validation_split=0.1,  # Use part of the training data for validation\n",
    "                    callbacks=[early_stopping])  # Include the early stopping callback)"
   ]
  },
  {
   "cell_type": "code",
   "execution_count": 7,
   "id": "f462a073-809c-40d5-a635-0502a64e1c34",
   "metadata": {},
   "outputs": [
    {
     "name": "stdout",
     "output_type": "stream",
     "text": [
      "313/313 [==============================] - 1s 4ms/step - loss: 0.0682 - accuracy: 0.9811\n",
      "Test accuracy: 0.9811000227928162\n"
     ]
    }
   ],
   "source": [
    "# gives an idea of how well the model performs on unseen data\n",
    "test_loss, test_acc = model.evaluate(test_images, test_labels)\n",
    "print('Test accuracy:', test_acc)"
   ]
  },
  {
   "cell_type": "code",
   "execution_count": 8,
   "id": "8553f5e4-48d7-4987-8758-d8769a59ee15",
   "metadata": {},
   "outputs": [],
   "source": [
    "#.9781,\n",
    "#epoch 10 - .9780\n",
    "#epoch 20 - .9779\n",
    "#epoch 5 - .9791 l0.0672\n",
    "#epoch 5 - .9783 lo 0.0753\n",
    "#epoch 10 - .981 lo 0.0647\n",
    "#epoch 10, early stopping, val split:0.1 - .9793 lo 0.0663\n",
    "#epoch 15 (stopped at 10), early stopping, val split:0.1 .  - .9804 lo 0.727\n",
    "#epoch 15, sgd, (stopped at 10), early stopping, val split:0.1 .  - 0.9610 lo  0.1307\n",
    "##epoch 15, , (stopped at 12), early stopping, val split:0.1,  batch aize 64 .  .9815, lo 0.0654\n",
    "##epoch 15, , (stopped at 11), early stopping, val split:0.1,  batch aize 64, extra hidden layer 64 .  .9805, lo 0.0626\n",
    "##epoch 15, , (stopped at 11), early stopping, val split:0.1,  batch aize 64, extra hidden layer 128 .\n",
    "##epoch 15, , (stopped at 15), early stopping, val split:0.1,  batch aize 64 .  .9817, lo 0.0665\n",
    "##epoch 15, , (stopped at 15), early stopping, val split:0.1,  batch aize 64 .  .9815 lo 0.0655\n",
    "##epoch 15,RMS optimiser , (stopped at 15), early stopping, val split:0.1,  batch aize 64 .  9796, lo 0.0764\n",
    "##epoch 15,adam optimiser 0.1 learning, (stopped at 12), early stopping, val split:0.1,  batch aize 128 .  9815, lo 0.0691\n",
    "##epoch 15,adam optimiser 0.1 learning, (stopped at 12), early stopping, val split:0.1,  batch aize 128 .  9812, lo 0.0679\n",
    "\n"
   ]
  }
 ],
 "metadata": {
  "kernelspec": {
   "display_name": "tfvenv",
   "language": "python",
   "name": "tfvenv"
  },
  "language_info": {
   "codemirror_mode": {
    "name": "ipython",
    "version": 3
   },
   "file_extension": ".py",
   "mimetype": "text/x-python",
   "name": "python",
   "nbconvert_exporter": "python",
   "pygments_lexer": "ipython3",
   "version": "3.9.13"
  }
 },
 "nbformat": 4,
 "nbformat_minor": 5
}
